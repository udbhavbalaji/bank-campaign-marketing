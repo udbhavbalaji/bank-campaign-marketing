{
    "cells": [
        {
            "cell_type": "markdown",
            "source": [
                "# Exploratory Data Analysis\n",
                "\n",
                "__Before we proceed with building our model, we must fullt understand the nature of the data in order to produce the most efficient and well-performing models for the given data. We eill do this in our Exploratory Data Analysis.__"
            ],
            "metadata": {}
        },
        {
            "cell_type": "code",
            "execution_count": 1,
            "source": [
                "# Importing Required Libraries\n",
                "import pandas as pd\n",
                "import numpy as np\n",
                "import matplotlib.pyplot as plt\n",
                "import seaborn as sns"
            ],
            "outputs": [],
            "metadata": {}
        },
        {
            "cell_type": "code",
            "execution_count": 2,
            "source": [
                "# Reading in the dataset\n",
                "df = pd.read_csv('Data/bank_data.csv')\n",
                "df.head()"
            ],
            "outputs": [
                {
                    "output_type": "execute_result",
                    "data": {
                        "text/plain": [
                            "   age        job  marital    education default housing loan    contact month  \\\n",
                            "0   56  housemaid  married     basic.4y      no      no   no  telephone   may   \n",
                            "1   57   services  married  high.school      no      no   no  telephone   may   \n",
                            "2   37   services  married  high.school      no     yes   no  telephone   may   \n",
                            "3   40     admin.  married     basic.6y      no      no   no  telephone   may   \n",
                            "4   56   services  married  high.school      no      no  yes  telephone   may   \n",
                            "\n",
                            "  day_of_week  ...  campaign  pdays  previous     poutcome emp_var_rate  \\\n",
                            "0         mon  ...         1      0         0  nonexistent          1.1   \n",
                            "1         mon  ...         1      0         0  nonexistent          1.1   \n",
                            "2         mon  ...         1      0         0  nonexistent          1.1   \n",
                            "3         mon  ...         1      0         0  nonexistent          1.1   \n",
                            "4         mon  ...         1      0         0  nonexistent          1.1   \n",
                            "\n",
                            "   cons_price_idx  cons_conf_idx  euribor3m  nr_employed   y  \n",
                            "0          93.994          -36.4      4.857       5191.0  no  \n",
                            "1          93.994          -36.4      4.857       5191.0  no  \n",
                            "2          93.994          -36.4      4.857       5191.0  no  \n",
                            "3          93.994          -36.4      4.857       5191.0  no  \n",
                            "4          93.994          -36.4      4.857       5191.0  no  \n",
                            "\n",
                            "[5 rows x 21 columns]"
                        ],
                        "text/html": [
                            "<div>\n",
                            "<style scoped>\n",
                            "    .dataframe tbody tr th:only-of-type {\n",
                            "        vertical-align: middle;\n",
                            "    }\n",
                            "\n",
                            "    .dataframe tbody tr th {\n",
                            "        vertical-align: top;\n",
                            "    }\n",
                            "\n",
                            "    .dataframe thead th {\n",
                            "        text-align: right;\n",
                            "    }\n",
                            "</style>\n",
                            "<table border=\"1\" class=\"dataframe\">\n",
                            "  <thead>\n",
                            "    <tr style=\"text-align: right;\">\n",
                            "      <th></th>\n",
                            "      <th>age</th>\n",
                            "      <th>job</th>\n",
                            "      <th>marital</th>\n",
                            "      <th>education</th>\n",
                            "      <th>default</th>\n",
                            "      <th>housing</th>\n",
                            "      <th>loan</th>\n",
                            "      <th>contact</th>\n",
                            "      <th>month</th>\n",
                            "      <th>day_of_week</th>\n",
                            "      <th>...</th>\n",
                            "      <th>campaign</th>\n",
                            "      <th>pdays</th>\n",
                            "      <th>previous</th>\n",
                            "      <th>poutcome</th>\n",
                            "      <th>emp_var_rate</th>\n",
                            "      <th>cons_price_idx</th>\n",
                            "      <th>cons_conf_idx</th>\n",
                            "      <th>euribor3m</th>\n",
                            "      <th>nr_employed</th>\n",
                            "      <th>y</th>\n",
                            "    </tr>\n",
                            "  </thead>\n",
                            "  <tbody>\n",
                            "    <tr>\n",
                            "      <th>0</th>\n",
                            "      <td>56</td>\n",
                            "      <td>housemaid</td>\n",
                            "      <td>married</td>\n",
                            "      <td>basic.4y</td>\n",
                            "      <td>no</td>\n",
                            "      <td>no</td>\n",
                            "      <td>no</td>\n",
                            "      <td>telephone</td>\n",
                            "      <td>may</td>\n",
                            "      <td>mon</td>\n",
                            "      <td>...</td>\n",
                            "      <td>1</td>\n",
                            "      <td>0</td>\n",
                            "      <td>0</td>\n",
                            "      <td>nonexistent</td>\n",
                            "      <td>1.1</td>\n",
                            "      <td>93.994</td>\n",
                            "      <td>-36.4</td>\n",
                            "      <td>4.857</td>\n",
                            "      <td>5191.0</td>\n",
                            "      <td>no</td>\n",
                            "    </tr>\n",
                            "    <tr>\n",
                            "      <th>1</th>\n",
                            "      <td>57</td>\n",
                            "      <td>services</td>\n",
                            "      <td>married</td>\n",
                            "      <td>high.school</td>\n",
                            "      <td>no</td>\n",
                            "      <td>no</td>\n",
                            "      <td>no</td>\n",
                            "      <td>telephone</td>\n",
                            "      <td>may</td>\n",
                            "      <td>mon</td>\n",
                            "      <td>...</td>\n",
                            "      <td>1</td>\n",
                            "      <td>0</td>\n",
                            "      <td>0</td>\n",
                            "      <td>nonexistent</td>\n",
                            "      <td>1.1</td>\n",
                            "      <td>93.994</td>\n",
                            "      <td>-36.4</td>\n",
                            "      <td>4.857</td>\n",
                            "      <td>5191.0</td>\n",
                            "      <td>no</td>\n",
                            "    </tr>\n",
                            "    <tr>\n",
                            "      <th>2</th>\n",
                            "      <td>37</td>\n",
                            "      <td>services</td>\n",
                            "      <td>married</td>\n",
                            "      <td>high.school</td>\n",
                            "      <td>no</td>\n",
                            "      <td>yes</td>\n",
                            "      <td>no</td>\n",
                            "      <td>telephone</td>\n",
                            "      <td>may</td>\n",
                            "      <td>mon</td>\n",
                            "      <td>...</td>\n",
                            "      <td>1</td>\n",
                            "      <td>0</td>\n",
                            "      <td>0</td>\n",
                            "      <td>nonexistent</td>\n",
                            "      <td>1.1</td>\n",
                            "      <td>93.994</td>\n",
                            "      <td>-36.4</td>\n",
                            "      <td>4.857</td>\n",
                            "      <td>5191.0</td>\n",
                            "      <td>no</td>\n",
                            "    </tr>\n",
                            "    <tr>\n",
                            "      <th>3</th>\n",
                            "      <td>40</td>\n",
                            "      <td>admin.</td>\n",
                            "      <td>married</td>\n",
                            "      <td>basic.6y</td>\n",
                            "      <td>no</td>\n",
                            "      <td>no</td>\n",
                            "      <td>no</td>\n",
                            "      <td>telephone</td>\n",
                            "      <td>may</td>\n",
                            "      <td>mon</td>\n",
                            "      <td>...</td>\n",
                            "      <td>1</td>\n",
                            "      <td>0</td>\n",
                            "      <td>0</td>\n",
                            "      <td>nonexistent</td>\n",
                            "      <td>1.1</td>\n",
                            "      <td>93.994</td>\n",
                            "      <td>-36.4</td>\n",
                            "      <td>4.857</td>\n",
                            "      <td>5191.0</td>\n",
                            "      <td>no</td>\n",
                            "    </tr>\n",
                            "    <tr>\n",
                            "      <th>4</th>\n",
                            "      <td>56</td>\n",
                            "      <td>services</td>\n",
                            "      <td>married</td>\n",
                            "      <td>high.school</td>\n",
                            "      <td>no</td>\n",
                            "      <td>no</td>\n",
                            "      <td>yes</td>\n",
                            "      <td>telephone</td>\n",
                            "      <td>may</td>\n",
                            "      <td>mon</td>\n",
                            "      <td>...</td>\n",
                            "      <td>1</td>\n",
                            "      <td>0</td>\n",
                            "      <td>0</td>\n",
                            "      <td>nonexistent</td>\n",
                            "      <td>1.1</td>\n",
                            "      <td>93.994</td>\n",
                            "      <td>-36.4</td>\n",
                            "      <td>4.857</td>\n",
                            "      <td>5191.0</td>\n",
                            "      <td>no</td>\n",
                            "    </tr>\n",
                            "  </tbody>\n",
                            "</table>\n",
                            "<p>5 rows × 21 columns</p>\n",
                            "</div>"
                        ]
                    },
                    "metadata": {},
                    "execution_count": 2
                }
            ],
            "metadata": {}
        },
        {
            "cell_type": "code",
            "execution_count": 3,
            "source": [
                "# Seeing the shape of the data\n",
                "df.shape"
            ],
            "outputs": [
                {
                    "output_type": "execute_result",
                    "data": {
                        "text/plain": [
                            "(39725, 21)"
                        ]
                    },
                    "metadata": {},
                    "execution_count": 3
                }
            ],
            "metadata": {}
        },
        {
            "cell_type": "code",
            "execution_count": 4,
            "source": [
                "# Describing the data\n",
                "df.describe()"
            ],
            "outputs": [
                {
                    "output_type": "execute_result",
                    "data": {
                        "text/plain": [
                            "                age      duration      campaign         pdays      previous  \\\n",
                            "count  39725.000000  39725.000000  39725.000000  39725.000000  39725.000000   \n",
                            "mean      39.598691    258.314160      2.575481      0.210925      0.166772   \n",
                            "std        9.671795    259.706517      2.775323      1.326587      0.482504   \n",
                            "min       17.000000      0.000000      1.000000      0.000000      0.000000   \n",
                            "25%       32.000000    102.000000      1.000000      0.000000      0.000000   \n",
                            "50%       38.000000    180.000000      2.000000      0.000000      0.000000   \n",
                            "75%       47.000000    319.000000      3.000000      0.000000      0.000000   \n",
                            "max       69.000000   4918.000000     43.000000     27.000000      7.000000   \n",
                            "\n",
                            "       emp_var_rate  cons_price_idx  cons_conf_idx     euribor3m   nr_employed  \n",
                            "count  39725.000000    39725.000000   39725.000000  39725.000000  39725.000000  \n",
                            "mean       0.109259       93.579461     -40.554585      3.651842   5168.627449  \n",
                            "std        1.554978        0.573590       4.570064      1.719139     70.975905  \n",
                            "min       -3.400000       92.201000     -50.800000      0.634000   4963.600000  \n",
                            "25%       -1.800000       93.075000     -42.700000      1.354000   5099.100000  \n",
                            "50%        1.100000       93.749000     -41.800000      4.857000   5191.000000  \n",
                            "75%        1.400000       93.994000     -36.400000      4.961000   5228.100000  \n",
                            "max        1.400000       94.767000     -26.900000      5.045000   5228.100000  "
                        ],
                        "text/html": [
                            "<div>\n",
                            "<style scoped>\n",
                            "    .dataframe tbody tr th:only-of-type {\n",
                            "        vertical-align: middle;\n",
                            "    }\n",
                            "\n",
                            "    .dataframe tbody tr th {\n",
                            "        vertical-align: top;\n",
                            "    }\n",
                            "\n",
                            "    .dataframe thead th {\n",
                            "        text-align: right;\n",
                            "    }\n",
                            "</style>\n",
                            "<table border=\"1\" class=\"dataframe\">\n",
                            "  <thead>\n",
                            "    <tr style=\"text-align: right;\">\n",
                            "      <th></th>\n",
                            "      <th>age</th>\n",
                            "      <th>duration</th>\n",
                            "      <th>campaign</th>\n",
                            "      <th>pdays</th>\n",
                            "      <th>previous</th>\n",
                            "      <th>emp_var_rate</th>\n",
                            "      <th>cons_price_idx</th>\n",
                            "      <th>cons_conf_idx</th>\n",
                            "      <th>euribor3m</th>\n",
                            "      <th>nr_employed</th>\n",
                            "    </tr>\n",
                            "  </thead>\n",
                            "  <tbody>\n",
                            "    <tr>\n",
                            "      <th>count</th>\n",
                            "      <td>39725.000000</td>\n",
                            "      <td>39725.000000</td>\n",
                            "      <td>39725.000000</td>\n",
                            "      <td>39725.000000</td>\n",
                            "      <td>39725.000000</td>\n",
                            "      <td>39725.000000</td>\n",
                            "      <td>39725.000000</td>\n",
                            "      <td>39725.000000</td>\n",
                            "      <td>39725.000000</td>\n",
                            "      <td>39725.000000</td>\n",
                            "    </tr>\n",
                            "    <tr>\n",
                            "      <th>mean</th>\n",
                            "      <td>39.598691</td>\n",
                            "      <td>258.314160</td>\n",
                            "      <td>2.575481</td>\n",
                            "      <td>0.210925</td>\n",
                            "      <td>0.166772</td>\n",
                            "      <td>0.109259</td>\n",
                            "      <td>93.579461</td>\n",
                            "      <td>-40.554585</td>\n",
                            "      <td>3.651842</td>\n",
                            "      <td>5168.627449</td>\n",
                            "    </tr>\n",
                            "    <tr>\n",
                            "      <th>std</th>\n",
                            "      <td>9.671795</td>\n",
                            "      <td>259.706517</td>\n",
                            "      <td>2.775323</td>\n",
                            "      <td>1.326587</td>\n",
                            "      <td>0.482504</td>\n",
                            "      <td>1.554978</td>\n",
                            "      <td>0.573590</td>\n",
                            "      <td>4.570064</td>\n",
                            "      <td>1.719139</td>\n",
                            "      <td>70.975905</td>\n",
                            "    </tr>\n",
                            "    <tr>\n",
                            "      <th>min</th>\n",
                            "      <td>17.000000</td>\n",
                            "      <td>0.000000</td>\n",
                            "      <td>1.000000</td>\n",
                            "      <td>0.000000</td>\n",
                            "      <td>0.000000</td>\n",
                            "      <td>-3.400000</td>\n",
                            "      <td>92.201000</td>\n",
                            "      <td>-50.800000</td>\n",
                            "      <td>0.634000</td>\n",
                            "      <td>4963.600000</td>\n",
                            "    </tr>\n",
                            "    <tr>\n",
                            "      <th>25%</th>\n",
                            "      <td>32.000000</td>\n",
                            "      <td>102.000000</td>\n",
                            "      <td>1.000000</td>\n",
                            "      <td>0.000000</td>\n",
                            "      <td>0.000000</td>\n",
                            "      <td>-1.800000</td>\n",
                            "      <td>93.075000</td>\n",
                            "      <td>-42.700000</td>\n",
                            "      <td>1.354000</td>\n",
                            "      <td>5099.100000</td>\n",
                            "    </tr>\n",
                            "    <tr>\n",
                            "      <th>50%</th>\n",
                            "      <td>38.000000</td>\n",
                            "      <td>180.000000</td>\n",
                            "      <td>2.000000</td>\n",
                            "      <td>0.000000</td>\n",
                            "      <td>0.000000</td>\n",
                            "      <td>1.100000</td>\n",
                            "      <td>93.749000</td>\n",
                            "      <td>-41.800000</td>\n",
                            "      <td>4.857000</td>\n",
                            "      <td>5191.000000</td>\n",
                            "    </tr>\n",
                            "    <tr>\n",
                            "      <th>75%</th>\n",
                            "      <td>47.000000</td>\n",
                            "      <td>319.000000</td>\n",
                            "      <td>3.000000</td>\n",
                            "      <td>0.000000</td>\n",
                            "      <td>0.000000</td>\n",
                            "      <td>1.400000</td>\n",
                            "      <td>93.994000</td>\n",
                            "      <td>-36.400000</td>\n",
                            "      <td>4.961000</td>\n",
                            "      <td>5228.100000</td>\n",
                            "    </tr>\n",
                            "    <tr>\n",
                            "      <th>max</th>\n",
                            "      <td>69.000000</td>\n",
                            "      <td>4918.000000</td>\n",
                            "      <td>43.000000</td>\n",
                            "      <td>27.000000</td>\n",
                            "      <td>7.000000</td>\n",
                            "      <td>1.400000</td>\n",
                            "      <td>94.767000</td>\n",
                            "      <td>-26.900000</td>\n",
                            "      <td>5.045000</td>\n",
                            "      <td>5228.100000</td>\n",
                            "    </tr>\n",
                            "  </tbody>\n",
                            "</table>\n",
                            "</div>"
                        ]
                    },
                    "metadata": {},
                    "execution_count": 4
                }
            ],
            "metadata": {}
        },
        {
            "cell_type": "code",
            "execution_count": 5,
            "source": [
                "# Getting variable information about each feature\n",
                "df.info()"
            ],
            "outputs": [
                {
                    "output_type": "stream",
                    "name": "stdout",
                    "text": [
                        "<class 'pandas.core.frame.DataFrame'>\n",
                        "RangeIndex: 39725 entries, 0 to 39724\n",
                        "Data columns (total 21 columns):\n",
                        " #   Column          Non-Null Count  Dtype  \n",
                        "---  ------          --------------  -----  \n",
                        " 0   age             39725 non-null  int64  \n",
                        " 1   job             39725 non-null  object \n",
                        " 2   marital         39725 non-null  object \n",
                        " 3   education       39725 non-null  object \n",
                        " 4   default         39725 non-null  object \n",
                        " 5   housing         39725 non-null  object \n",
                        " 6   loan            39725 non-null  object \n",
                        " 7   contact         39725 non-null  object \n",
                        " 8   month           39725 non-null  object \n",
                        " 9   day_of_week     39725 non-null  object \n",
                        " 10  duration        39725 non-null  int64  \n",
                        " 11  campaign        39725 non-null  int64  \n",
                        " 12  pdays           39725 non-null  int64  \n",
                        " 13  previous        39725 non-null  int64  \n",
                        " 14  poutcome        39725 non-null  object \n",
                        " 15  emp_var_rate    39725 non-null  float64\n",
                        " 16  cons_price_idx  39725 non-null  float64\n",
                        " 17  cons_conf_idx   39725 non-null  float64\n",
                        " 18  euribor3m       39725 non-null  float64\n",
                        " 19  nr_employed     39725 non-null  float64\n",
                        " 20  y               39725 non-null  object \n",
                        "dtypes: float64(5), int64(5), object(11)\n",
                        "memory usage: 6.4+ MB\n"
                    ]
                }
            ],
            "metadata": {}
        },
        {
            "cell_type": "code",
            "execution_count": 6,
            "source": [
                "# Checking duplicates\n",
                "df.duplicated().sum()"
            ],
            "outputs": [
                {
                    "output_type": "execute_result",
                    "data": {
                        "text/plain": [
                            "0"
                        ]
                    },
                    "metadata": {},
                    "execution_count": 6
                }
            ],
            "metadata": {}
        },
        {
            "cell_type": "code",
            "execution_count": 7,
            "source": [
                "# Getting number of null values\n",
                "df.isnull().sum()"
            ],
            "outputs": [
                {
                    "output_type": "execute_result",
                    "data": {
                        "text/plain": [
                            "age               0\n",
                            "job               0\n",
                            "marital           0\n",
                            "education         0\n",
                            "default           0\n",
                            "housing           0\n",
                            "loan              0\n",
                            "contact           0\n",
                            "month             0\n",
                            "day_of_week       0\n",
                            "duration          0\n",
                            "campaign          0\n",
                            "pdays             0\n",
                            "previous          0\n",
                            "poutcome          0\n",
                            "emp_var_rate      0\n",
                            "cons_price_idx    0\n",
                            "cons_conf_idx     0\n",
                            "euribor3m         0\n",
                            "nr_employed       0\n",
                            "y                 0\n",
                            "dtype: int64"
                        ]
                    },
                    "metadata": {},
                    "execution_count": 7
                }
            ],
            "metadata": {}
        },
        {
            "cell_type": "markdown",
            "source": [
                "__We see that we have no null values and duplicate records. This means we have a clean dataset.__\n",
                "\n",
                "__It seems intuitive that education level and job category directly could impact the target. Let us see this relationship.__"
            ],
            "metadata": {}
        },
        {
            "cell_type": "code",
            "execution_count": 8,
            "source": [
                "def count_plot(col, hue, df):\n",
                "    g = sns.countplot(y=col, hue=hue, data=df).set_title('Distribution of {} column with respect to {}'.format(col.upper(), hue.upper()))\n",
                "    plt.xlabel('Number of Customers')\n",
                "    plt.ylabel(col.upper())\n",
                "    plt.legend(title='')\n",
                "    plt.show()"
            ],
            "outputs": [],
            "metadata": {}
        },
        {
            "cell_type": "code",
            "execution_count": 9,
            "source": [
                "# Let us see which level of education has a higher rate of positive outcome in the target variable\n",
                "sns.set_theme(style='whitegrid')\n",
                "count_plot('education', 'y', df)"
            ],
            "outputs": [
                {
                    "output_type": "display_data",
                    "data": {
                        "text/plain": [
                            "<Figure size 432x288 with 1 Axes>"
                        ],
                        "image/png": "[encoded data removed]"
                    },
                    "metadata": {}
                }
            ],
            "metadata": {}
        },
        {
            "cell_type": "markdown",
            "source": [
                "__We see that the highest number of interested customers comes from University Degree holders. Surprisingly, we see that the next highest number comes from customers with just a high school degree. Let us go ahead and check the distribution for JOB.__ "
            ],
            "metadata": {}
        },
        {
            "cell_type": "code",
            "execution_count": 10,
            "source": [
                "# Let us see which job category has a higher rate of positive outcome in the target variable\n",
                "count_plot('job', 'y', df)"
            ],
            "outputs": [
                {
                    "output_type": "display_data",
                    "data": {
                        "text/plain": [
                            "<Figure size 432x288 with 1 Axes>"
                        ],
                        "image/png": "[encoded data removed]"
                    },
                    "metadata": {}
                }
            ],
            "metadata": {}
        },
        {
            "cell_type": "code",
            "execution_count": 11,
            "source": [
                "df.groupby('y').job.value_counts()"
            ],
            "outputs": [
                {
                    "output_type": "execute_result",
                    "data": {
                        "text/plain": [
                            "y    job          \n",
                            "no   admin.           9152\n",
                            "     blue-collar      8388\n",
                            "     technician       5883\n",
                            "     services         3550\n",
                            "     management       2527\n",
                            "     entrepreneur     1299\n",
                            "     self-employed    1233\n",
                            "     retired          1031\n",
                            "     housemaid         915\n",
                            "     unemployed        844\n",
                            "     student           588\n",
                            "yes  admin.           1350\n",
                            "     technician        708\n",
                            "     blue-collar       621\n",
                            "     management        320\n",
                            "     services          316\n",
                            "     student           264\n",
                            "     retired           233\n",
                            "     self-employed     147\n",
                            "     unemployed        143\n",
                            "     entrepreneur      121\n",
                            "     housemaid          92\n",
                            "Name: job, dtype: int64"
                        ]
                    },
                    "metadata": {},
                    "execution_count": 11
                }
            ],
            "metadata": {}
        },
        {
            "cell_type": "markdown",
            "source": [
                "__We see that the highest number of interestes customers comes from those working in admin. The next highest categories are blue-collar and technician.__"
            ],
            "metadata": {}
        },
        {
            "cell_type": "code",
            "execution_count": 12,
            "source": [
                "df.columns"
            ],
            "outputs": [
                {
                    "output_type": "execute_result",
                    "data": {
                        "text/plain": [
                            "Index(['age', 'job', 'marital', 'education', 'default', 'housing', 'loan',\n",
                            "       'contact', 'month', 'day_of_week', 'duration', 'campaign', 'pdays',\n",
                            "       'previous', 'poutcome', 'emp_var_rate', 'cons_price_idx',\n",
                            "       'cons_conf_idx', 'euribor3m', 'nr_employed', 'y'],\n",
                            "      dtype='object')"
                        ]
                    },
                    "metadata": {},
                    "execution_count": 12
                }
            ],
            "metadata": {}
        },
        {
            "cell_type": "markdown",
            "source": [
                "__Based on the different loans a customer has, we might be able to find some connection with respect to their interest in the service. Let's explore this a bit more.__"
            ],
            "metadata": {}
        },
        {
            "cell_type": "code",
            "execution_count": 13,
            "source": [
                "# Creating countplots for each of the loans to see the effect on the target variable\n",
                "loan_cols = ['default','housing','loan']\n",
                "for col in loan_cols:\n",
                "    count_plot(col, 'y', df)"
            ],
            "outputs": [
                {
                    "output_type": "display_data",
                    "data": {
                        "text/plain": [
                            "<Figure size 432x288 with 1 Axes>"
                        ],
                        "image/png": "[encoded data removed]"
                    },
                    "metadata": {}
                },
                {
                    "output_type": "display_data",
                    "data": {
                        "text/plain": [
                            "<Figure size 432x288 with 1 Axes>"
                        ],
                        "image/png": "[encoded data removed]"
                    },
                    "metadata": {}
                },
                {
                    "output_type": "display_data",
                    "data": {
                        "text/plain": [
                            "<Figure size 432x288 with 1 Axes>"
                        ],
                        "image/png": "[encoded data removed]"
                    },
                    "metadata": {}
                }
            ],
            "metadata": {}
        },
        {
            "cell_type": "markdown",
            "source": [
                "__We see that there is no real pattern/connection linking the loans and the target feature.__"
            ],
            "metadata": {}
        },
        {
            "cell_type": "code",
            "execution_count": 14,
            "source": [
                "# Changing the target variable into 0s and 1s so that we can turn it into numeric\n",
                "df['y'] = df.y.apply(lambda x: 0 if x == 'no' else 1)"
            ],
            "outputs": [],
            "metadata": {}
        },
        {
            "cell_type": "code",
            "execution_count": 15,
            "source": [
                "df.info()"
            ],
            "outputs": [
                {
                    "output_type": "stream",
                    "name": "stdout",
                    "text": [
                        "<class 'pandas.core.frame.DataFrame'>\n",
                        "RangeIndex: 39725 entries, 0 to 39724\n",
                        "Data columns (total 21 columns):\n",
                        " #   Column          Non-Null Count  Dtype  \n",
                        "---  ------          --------------  -----  \n",
                        " 0   age             39725 non-null  int64  \n",
                        " 1   job             39725 non-null  object \n",
                        " 2   marital         39725 non-null  object \n",
                        " 3   education       39725 non-null  object \n",
                        " 4   default         39725 non-null  object \n",
                        " 5   housing         39725 non-null  object \n",
                        " 6   loan            39725 non-null  object \n",
                        " 7   contact         39725 non-null  object \n",
                        " 8   month           39725 non-null  object \n",
                        " 9   day_of_week     39725 non-null  object \n",
                        " 10  duration        39725 non-null  int64  \n",
                        " 11  campaign        39725 non-null  int64  \n",
                        " 12  pdays           39725 non-null  int64  \n",
                        " 13  previous        39725 non-null  int64  \n",
                        " 14  poutcome        39725 non-null  object \n",
                        " 15  emp_var_rate    39725 non-null  float64\n",
                        " 16  cons_price_idx  39725 non-null  float64\n",
                        " 17  cons_conf_idx   39725 non-null  float64\n",
                        " 18  euribor3m       39725 non-null  float64\n",
                        " 19  nr_employed     39725 non-null  float64\n",
                        " 20  y               39725 non-null  int64  \n",
                        "dtypes: float64(5), int64(6), object(10)\n",
                        "memory usage: 6.4+ MB\n"
                    ]
                }
            ],
            "metadata": {}
        },
        {
            "cell_type": "code",
            "execution_count": null,
            "source": [],
            "outputs": [],
            "metadata": {}
        }
    ],
    "metadata": {
        "orig_nbformat": 4,
        "language_info": {
            "name": "python",
            "version": "3.9.5",
            "mimetype": "text/x-python",
            "codemirror_mode": {
                "name": "ipython",
                "version": 3
            },
            "pygments_lexer": "ipython3",
            "nbconvert_exporter": "python",
            "file_extension": ".py"
        },
        "kernelspec": {
            "name": "python3",
            "display_name": "Python 3.9.5 64-bit ('bank-marketing': conda)"
        },
        "interpreter": {
            "hash": "4f4b1b5c29d42177289028ea0cce887199f1450cd3ec65bcdc0315cf1c974aa2"
        }
    },
    "nbformat": 4,
    "nbformat_minor": 2
}