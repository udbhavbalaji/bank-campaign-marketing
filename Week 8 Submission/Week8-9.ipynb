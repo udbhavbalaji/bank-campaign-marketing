{
    "cells": [
        {
            "cell_type": "markdown",
            "source": [
                "# Data Understanding\n",
                "\n",
                "__We will now see the data and understand it better.__"
            ],
            "metadata": {}
        },
        {
            "cell_type": "code",
            "execution_count": 1,
            "source": [
                "# Importing the required libraries\n",
                "import pandas as pd\n",
                "import numpy as np\n",
                "import matplotlib.pyplot as plt\n",
                "from scipy import stats"
            ],
            "outputs": [],
            "metadata": {}
        },
        {
            "cell_type": "code",
            "execution_count": 2,
            "source": [
                "# Reading in the data\n",
                "df = pd.read_csv('bank_data.csv')\n",
                "df.head()"
            ],
            "outputs": [
                {
                    "output_type": "execute_result",
                    "data": {
                        "text/plain": [
                            "   age        job  marital    education default housing loan    contact month  \\\n",
                            "0   56  housemaid  married     basic.4y      no      no   no  telephone   may   \n",
                            "1   57   services  married  high.school     NaN      no   no  telephone   may   \n",
                            "2   37   services  married  high.school      no     yes   no  telephone   may   \n",
                            "3   40     admin.  married     basic.6y      no      no   no  telephone   may   \n",
                            "4   56   services  married  high.school      no      no  yes  telephone   may   \n",
                            "\n",
                            "  day_of_week  ...  campaign  pdays  previous     poutcome emp_var_rate  \\\n",
                            "0         mon  ...         1    999         0  nonexistent          1.1   \n",
                            "1         mon  ...         1    999         0  nonexistent          1.1   \n",
                            "2         mon  ...         1    999         0  nonexistent          1.1   \n",
                            "3         mon  ...         1    999         0  nonexistent          1.1   \n",
                            "4         mon  ...         1    999         0  nonexistent          1.1   \n",
                            "\n",
                            "   cons_price_idx  cons_conf_idx  euribor3m  nr_employed   y  \n",
                            "0          93.994          -36.4      4.857       5191.0  no  \n",
                            "1          93.994          -36.4      4.857       5191.0  no  \n",
                            "2          93.994          -36.4      4.857       5191.0  no  \n",
                            "3          93.994          -36.4      4.857       5191.0  no  \n",
                            "4          93.994          -36.4      4.857       5191.0  no  \n",
                            "\n",
                            "[5 rows x 21 columns]"
                        ],
                        "text/html": [
                            "<div>\n",
                            "<style scoped>\n",
                            "    .dataframe tbody tr th:only-of-type {\n",
                            "        vertical-align: middle;\n",
                            "    }\n",
                            "\n",
                            "    .dataframe tbody tr th {\n",
                            "        vertical-align: top;\n",
                            "    }\n",
                            "\n",
                            "    .dataframe thead th {\n",
                            "        text-align: right;\n",
                            "    }\n",
                            "</style>\n",
                            "<table border=\"1\" class=\"dataframe\">\n",
                            "  <thead>\n",
                            "    <tr style=\"text-align: right;\">\n",
                            "      <th></th>\n",
                            "      <th>age</th>\n",
                            "      <th>job</th>\n",
                            "      <th>marital</th>\n",
                            "      <th>education</th>\n",
                            "      <th>default</th>\n",
                            "      <th>housing</th>\n",
                            "      <th>loan</th>\n",
                            "      <th>contact</th>\n",
                            "      <th>month</th>\n",
                            "      <th>day_of_week</th>\n",
                            "      <th>...</th>\n",
                            "      <th>campaign</th>\n",
                            "      <th>pdays</th>\n",
                            "      <th>previous</th>\n",
                            "      <th>poutcome</th>\n",
                            "      <th>emp_var_rate</th>\n",
                            "      <th>cons_price_idx</th>\n",
                            "      <th>cons_conf_idx</th>\n",
                            "      <th>euribor3m</th>\n",
                            "      <th>nr_employed</th>\n",
                            "      <th>y</th>\n",
                            "    </tr>\n",
                            "  </thead>\n",
                            "  <tbody>\n",
                            "    <tr>\n",
                            "      <th>0</th>\n",
                            "      <td>56</td>\n",
                            "      <td>housemaid</td>\n",
                            "      <td>married</td>\n",
                            "      <td>basic.4y</td>\n",
                            "      <td>no</td>\n",
                            "      <td>no</td>\n",
                            "      <td>no</td>\n",
                            "      <td>telephone</td>\n",
                            "      <td>may</td>\n",
                            "      <td>mon</td>\n",
                            "      <td>...</td>\n",
                            "      <td>1</td>\n",
                            "      <td>999</td>\n",
                            "      <td>0</td>\n",
                            "      <td>nonexistent</td>\n",
                            "      <td>1.1</td>\n",
                            "      <td>93.994</td>\n",
                            "      <td>-36.4</td>\n",
                            "      <td>4.857</td>\n",
                            "      <td>5191.0</td>\n",
                            "      <td>no</td>\n",
                            "    </tr>\n",
                            "    <tr>\n",
                            "      <th>1</th>\n",
                            "      <td>57</td>\n",
                            "      <td>services</td>\n",
                            "      <td>married</td>\n",
                            "      <td>high.school</td>\n",
                            "      <td>NaN</td>\n",
                            "      <td>no</td>\n",
                            "      <td>no</td>\n",
                            "      <td>telephone</td>\n",
                            "      <td>may</td>\n",
                            "      <td>mon</td>\n",
                            "      <td>...</td>\n",
                            "      <td>1</td>\n",
                            "      <td>999</td>\n",
                            "      <td>0</td>\n",
                            "      <td>nonexistent</td>\n",
                            "      <td>1.1</td>\n",
                            "      <td>93.994</td>\n",
                            "      <td>-36.4</td>\n",
                            "      <td>4.857</td>\n",
                            "      <td>5191.0</td>\n",
                            "      <td>no</td>\n",
                            "    </tr>\n",
                            "    <tr>\n",
                            "      <th>2</th>\n",
                            "      <td>37</td>\n",
                            "      <td>services</td>\n",
                            "      <td>married</td>\n",
                            "      <td>high.school</td>\n",
                            "      <td>no</td>\n",
                            "      <td>yes</td>\n",
                            "      <td>no</td>\n",
                            "      <td>telephone</td>\n",
                            "      <td>may</td>\n",
                            "      <td>mon</td>\n",
                            "      <td>...</td>\n",
                            "      <td>1</td>\n",
                            "      <td>999</td>\n",
                            "      <td>0</td>\n",
                            "      <td>nonexistent</td>\n",
                            "      <td>1.1</td>\n",
                            "      <td>93.994</td>\n",
                            "      <td>-36.4</td>\n",
                            "      <td>4.857</td>\n",
                            "      <td>5191.0</td>\n",
                            "      <td>no</td>\n",
                            "    </tr>\n",
                            "    <tr>\n",
                            "      <th>3</th>\n",
                            "      <td>40</td>\n",
                            "      <td>admin.</td>\n",
                            "      <td>married</td>\n",
                            "      <td>basic.6y</td>\n",
                            "      <td>no</td>\n",
                            "      <td>no</td>\n",
                            "      <td>no</td>\n",
                            "      <td>telephone</td>\n",
                            "      <td>may</td>\n",
                            "      <td>mon</td>\n",
                            "      <td>...</td>\n",
                            "      <td>1</td>\n",
                            "      <td>999</td>\n",
                            "      <td>0</td>\n",
                            "      <td>nonexistent</td>\n",
                            "      <td>1.1</td>\n",
                            "      <td>93.994</td>\n",
                            "      <td>-36.4</td>\n",
                            "      <td>4.857</td>\n",
                            "      <td>5191.0</td>\n",
                            "      <td>no</td>\n",
                            "    </tr>\n",
                            "    <tr>\n",
                            "      <th>4</th>\n",
                            "      <td>56</td>\n",
                            "      <td>services</td>\n",
                            "      <td>married</td>\n",
                            "      <td>high.school</td>\n",
                            "      <td>no</td>\n",
                            "      <td>no</td>\n",
                            "      <td>yes</td>\n",
                            "      <td>telephone</td>\n",
                            "      <td>may</td>\n",
                            "      <td>mon</td>\n",
                            "      <td>...</td>\n",
                            "      <td>1</td>\n",
                            "      <td>999</td>\n",
                            "      <td>0</td>\n",
                            "      <td>nonexistent</td>\n",
                            "      <td>1.1</td>\n",
                            "      <td>93.994</td>\n",
                            "      <td>-36.4</td>\n",
                            "      <td>4.857</td>\n",
                            "      <td>5191.0</td>\n",
                            "      <td>no</td>\n",
                            "    </tr>\n",
                            "  </tbody>\n",
                            "</table>\n",
                            "<p>5 rows × 21 columns</p>\n",
                            "</div>"
                        ]
                    },
                    "metadata": {},
                    "execution_count": 2
                }
            ],
            "metadata": {}
        },
        {
            "cell_type": "markdown",
            "source": [
                "__Let us see which features are categorical and numerical in the data.__"
            ],
            "metadata": {}
        },
        {
            "cell_type": "code",
            "execution_count": 3,
            "source": [
                "df.info()"
            ],
            "outputs": [
                {
                    "output_type": "stream",
                    "name": "stdout",
                    "text": [
                        "<class 'pandas.core.frame.DataFrame'>\n",
                        "RangeIndex: 41188 entries, 0 to 41187\n",
                        "Data columns (total 21 columns):\n",
                        " #   Column          Non-Null Count  Dtype  \n",
                        "---  ------          --------------  -----  \n",
                        " 0   age             41188 non-null  int64  \n",
                        " 1   job             40858 non-null  object \n",
                        " 2   marital         41108 non-null  object \n",
                        " 3   education       39457 non-null  object \n",
                        " 4   default         32591 non-null  object \n",
                        " 5   housing         40198 non-null  object \n",
                        " 6   loan            40198 non-null  object \n",
                        " 7   contact         41188 non-null  object \n",
                        " 8   month           41188 non-null  object \n",
                        " 9   day_of_week     41188 non-null  object \n",
                        " 10  duration        41188 non-null  int64  \n",
                        " 11  campaign        41188 non-null  int64  \n",
                        " 12  pdays           41188 non-null  int64  \n",
                        " 13  previous        41188 non-null  int64  \n",
                        " 14  poutcome        41188 non-null  object \n",
                        " 15  emp_var_rate    41188 non-null  float64\n",
                        " 16  cons_price_idx  41188 non-null  float64\n",
                        " 17  cons_conf_idx   41188 non-null  float64\n",
                        " 18  euribor3m       41188 non-null  float64\n",
                        " 19  nr_employed     41188 non-null  float64\n",
                        " 20  y               41188 non-null  object \n",
                        "dtypes: float64(5), int64(5), object(11)\n",
                        "memory usage: 6.6+ MB\n"
                    ]
                }
            ],
            "metadata": {}
        },
        {
            "cell_type": "markdown",
            "source": [
                "__We see that we have 10 numerical columns (5 int and 5 float) and 11 categorical columns (including the target variable). Let us explore and find the number of null values in each column.__"
            ],
            "metadata": {}
        },
        {
            "cell_type": "code",
            "execution_count": 4,
            "source": [
                "df.isnull().sum()"
            ],
            "outputs": [
                {
                    "output_type": "execute_result",
                    "data": {
                        "text/plain": [
                            "age                  0\n",
                            "job                330\n",
                            "marital             80\n",
                            "education         1731\n",
                            "default           8597\n",
                            "housing            990\n",
                            "loan               990\n",
                            "contact              0\n",
                            "month                0\n",
                            "day_of_week          0\n",
                            "duration             0\n",
                            "campaign             0\n",
                            "pdays                0\n",
                            "previous             0\n",
                            "poutcome             0\n",
                            "emp_var_rate         0\n",
                            "cons_price_idx       0\n",
                            "cons_conf_idx        0\n",
                            "euribor3m            0\n",
                            "nr_employed          0\n",
                            "y                    0\n",
                            "dtype: int64"
                        ]
                    },
                    "metadata": {},
                    "execution_count": 4
                }
            ],
            "metadata": {}
        },
        {
            "cell_type": "markdown",
            "source": [
                "__We see that we have some null values in only 5 columns, namely: job, marital, education, default, housing and loan.__\n",
                "\n",
                "__Before proceeding with the treating of these NaN values, let us fully understand the columns of the data. According to the source https://archive.ics.uci.edu/ml/datasets/Bank+Marketing tha attrinutes are as follows:__    \n",
                " - age (Age of the Customer) - Numerical\n",
                " - job (Type of Job) - Categorical - Possible Values - ('admin.','blue-collar','entrepreneur','housemaid','management','retired','self-employed','services','student','technician','unemployed','unknown')\n",
                " - marital (Marital Status) - Categorical - Possible Values - ( 'divorced','married','single','unknown'); NOTE: 'divorced' includes divorced and widowed\n",
                " - education (Education Level) - Categorical - Possible Values - ('basic.4y','basic.6y','basic.9y','high.school','illiterate','professional.course','university.degree','unknown')\n",
                " - default (Has credit in Default) - Categorical - Possible Values - ('no','yes','unknown')\n",
                " - housing (Has Housing Loan) - Categorical - Possible Values - ('no','yes','unknown')\n",
                " - loan (Has Personal Loan) - Categorical - Possible Values - ('no','yes','unknown')\n",
                " - contact (Type of Communication) - Categorical - Possible Values - ('cellular','telephone')\n",
                " - month (Month of Last Contact) - Categorical - Possible Values - ('jan', 'feb', 'mar', ..., 'nov', 'dec')\n",
                " - day_of_week (Day of Week of Last Contact) - Categorical - Possible Values - ('mon','tue','wed','thu','fri')\n",
                " - duration (Last Contact Duration in seconds) - Numerical; IMPORTANT NOTE = (If duration=0, y=\"No')\n",
                " - campaign (Number of Contacts performed during this campaign for this client) - Numerical\n",
                " - pdays (Number of days passed after client was contacted from a previous campaign ; 999 - Not Previously Contacted)\n",
                " - previous (Number of contacts performed before this campaign and for this client) - Numerical\n",
                " - poutcome (Outcome of the previous marketing campaign) - Categorical Values - Possible Values - ('failure','nonexistent','success')\n",
                " - emp_var_rate (Quarterly Indicator of Employment Variation Rate) - Numerical\n",
                " - cons_price_idx (Monthly Indicator of Consumer Price Index) - Numerical\n",
                " - cons_conf_idx (Monthly Indicator of Consumer Confidence Index) - Numerical\n",
                " - euribor3m (Daily Indicator of Euribor 3 Month Rate) - Numerical\n",
                " - nr_employed (Quarterly Indicator of Number of Employees) - Numerical\n",
                "\n",
                " - y (Target Feature - Has the client subscribed to a term deposit) - Binary - Possible Values - ('yes','no')\n",
                "\n",
                " __We see that all the missong data are in categorical variables. Therefore, these missing values can't be imputed. Let us explore other aspects of the data and try to treat these missing values appropriately.__"
            ],
            "metadata": {}
        },
        {
            "cell_type": "code",
            "execution_count": 5,
            "source": [
                "# Defining a function to print the boxplots\n",
                "def print_box(i, j, df, col, ax):\n",
                "    ax[i, j].boxplot(df[col])\n",
                "    ax[i, j].set_title('Column: {}'.format(col.upper()))"
            ],
            "outputs": [],
            "metadata": {}
        },
        {
            "cell_type": "code",
            "execution_count": 6,
            "source": [
                "df_final = df.copy()"
            ],
            "outputs": [],
            "metadata": {}
        },
        {
            "cell_type": "code",
            "execution_count": 7,
            "source": [
                "# Checking for outliers using boxplot\n",
                "num_col_list = ['age','duration','campaign','pdays','previous','emp_var_rate','cons_price_idx',\n",
                "       'cons_conf_idx', 'euribor3m', 'nr_employed']\n",
                "pos_list = [[0,0],[1,0],\n",
                "            [0,1],[1,1],\n",
                "            [0,2],[1,2],\n",
                "            [0,3],[1,3],\n",
                "            [0,4],[1,4]]\n",
                "boxplots = []\n",
                "fig, ax = plt.subplots(2, 5, figsize=(15,15))\n",
                "for i in range(len(num_col_list)):\n",
                "    print_box(pos_list[i][0], pos_list[i][1], df_final, num_col_list[i], ax)\n",
                "# boxplots"
            ],
            "outputs": [
                {
                    "output_type": "display_data",
                    "data": {
                        "text/plain": [
                            "<Figure size 1080x1080 with 10 Axes>"
                        ],
                        "image/png": "[encoded data removed]"
                    },
                    "metadata": {
                        "needs_background": "light"
                    }
                }
            ],
            "metadata": {}
        },
        {
            "cell_type": "markdown",
            "source": [
                "__Now that we have some idea about the outliers, we can go ahead and decide what we want to do about the missing values in the categorical features. If we recall, the following columns had missing values:__    \n",
                "- job - 330\n",
                "- marital - 80\n",
                "- education - 1731\n",
                "- default - 8597\n",
                "- housing - 990\n",
                "- loan - 990\n",
                "\n",
                "__Since we have 41176 rows in our data, removing the rows with NaN values in job, marital, housing and loan won't make too much of a difference. For the remaining 2 columns, let us see the split in values and get some more informtion before taking the decision.__"
            ],
            "metadata": {}
        },
        {
            "cell_type": "code",
            "execution_count": 8,
            "source": [
                "# Getting the value counts for the education column in the data\n",
                "df_final.education.value_counts()"
            ],
            "outputs": [
                {
                    "output_type": "execute_result",
                    "data": {
                        "text/plain": [
                            "university.degree      12168\n",
                            "high.school             9515\n",
                            "basic.9y                6045\n",
                            "professional.course     5243\n",
                            "basic.4y                4176\n",
                            "basic.6y                2292\n",
                            "illiterate                18\n",
                            "Name: education, dtype: int64"
                        ]
                    },
                    "metadata": {},
                    "execution_count": 8
                }
            ],
            "metadata": {}
        },
        {
            "cell_type": "code",
            "execution_count": 9,
            "source": [
                "# Getting the value counts for the default coumn in the data\n",
                "df_final.default.value_counts()"
            ],
            "outputs": [
                {
                    "output_type": "execute_result",
                    "data": {
                        "text/plain": [
                            "no     32588\n",
                            "yes        3\n",
                            "Name: default, dtype: int64"
                        ]
                    },
                    "metadata": {},
                    "execution_count": 9
                }
            ],
            "metadata": {}
        },
        {
            "cell_type": "markdown",
            "source": [
                "__We can see that for the default column, almost all the rows (except 3) have a value of 'no'. Therefore, we can just replace the missing values with 'no'. For the education column, things are spread out a little more. We see that 'university.degree' is the most common, but closely followed by 'high.school' and 'basic.9y'. Let us explore and see what happens if we replace all NaN values with 'university.degree'.__"
            ],
            "metadata": {}
        },
        {
            "cell_type": "code",
            "execution_count": 10,
            "source": [
                "# Replacing NaN values in education and default\n",
                "values = {'education': 'university.degree', 'default': 'no'}\n",
                "df_final.fillna(value=values, inplace=True)\n",
                "df_final.head()"
            ],
            "outputs": [
                {
                    "output_type": "execute_result",
                    "data": {
                        "text/plain": [
                            "   age        job  marital    education default housing loan    contact month  \\\n",
                            "0   56  housemaid  married     basic.4y      no      no   no  telephone   may   \n",
                            "1   57   services  married  high.school      no      no   no  telephone   may   \n",
                            "2   37   services  married  high.school      no     yes   no  telephone   may   \n",
                            "3   40     admin.  married     basic.6y      no      no   no  telephone   may   \n",
                            "4   56   services  married  high.school      no      no  yes  telephone   may   \n",
                            "\n",
                            "  day_of_week  ...  campaign  pdays  previous     poutcome emp_var_rate  \\\n",
                            "0         mon  ...         1    999         0  nonexistent          1.1   \n",
                            "1         mon  ...         1    999         0  nonexistent          1.1   \n",
                            "2         mon  ...         1    999         0  nonexistent          1.1   \n",
                            "3         mon  ...         1    999         0  nonexistent          1.1   \n",
                            "4         mon  ...         1    999         0  nonexistent          1.1   \n",
                            "\n",
                            "   cons_price_idx  cons_conf_idx  euribor3m  nr_employed   y  \n",
                            "0          93.994          -36.4      4.857       5191.0  no  \n",
                            "1          93.994          -36.4      4.857       5191.0  no  \n",
                            "2          93.994          -36.4      4.857       5191.0  no  \n",
                            "3          93.994          -36.4      4.857       5191.0  no  \n",
                            "4          93.994          -36.4      4.857       5191.0  no  \n",
                            "\n",
                            "[5 rows x 21 columns]"
                        ],
                        "text/html": [
                            "<div>\n",
                            "<style scoped>\n",
                            "    .dataframe tbody tr th:only-of-type {\n",
                            "        vertical-align: middle;\n",
                            "    }\n",
                            "\n",
                            "    .dataframe tbody tr th {\n",
                            "        vertical-align: top;\n",
                            "    }\n",
                            "\n",
                            "    .dataframe thead th {\n",
                            "        text-align: right;\n",
                            "    }\n",
                            "</style>\n",
                            "<table border=\"1\" class=\"dataframe\">\n",
                            "  <thead>\n",
                            "    <tr style=\"text-align: right;\">\n",
                            "      <th></th>\n",
                            "      <th>age</th>\n",
                            "      <th>job</th>\n",
                            "      <th>marital</th>\n",
                            "      <th>education</th>\n",
                            "      <th>default</th>\n",
                            "      <th>housing</th>\n",
                            "      <th>loan</th>\n",
                            "      <th>contact</th>\n",
                            "      <th>month</th>\n",
                            "      <th>day_of_week</th>\n",
                            "      <th>...</th>\n",
                            "      <th>campaign</th>\n",
                            "      <th>pdays</th>\n",
                            "      <th>previous</th>\n",
                            "      <th>poutcome</th>\n",
                            "      <th>emp_var_rate</th>\n",
                            "      <th>cons_price_idx</th>\n",
                            "      <th>cons_conf_idx</th>\n",
                            "      <th>euribor3m</th>\n",
                            "      <th>nr_employed</th>\n",
                            "      <th>y</th>\n",
                            "    </tr>\n",
                            "  </thead>\n",
                            "  <tbody>\n",
                            "    <tr>\n",
                            "      <th>0</th>\n",
                            "      <td>56</td>\n",
                            "      <td>housemaid</td>\n",
                            "      <td>married</td>\n",
                            "      <td>basic.4y</td>\n",
                            "      <td>no</td>\n",
                            "      <td>no</td>\n",
                            "      <td>no</td>\n",
                            "      <td>telephone</td>\n",
                            "      <td>may</td>\n",
                            "      <td>mon</td>\n",
                            "      <td>...</td>\n",
                            "      <td>1</td>\n",
                            "      <td>999</td>\n",
                            "      <td>0</td>\n",
                            "      <td>nonexistent</td>\n",
                            "      <td>1.1</td>\n",
                            "      <td>93.994</td>\n",
                            "      <td>-36.4</td>\n",
                            "      <td>4.857</td>\n",
                            "      <td>5191.0</td>\n",
                            "      <td>no</td>\n",
                            "    </tr>\n",
                            "    <tr>\n",
                            "      <th>1</th>\n",
                            "      <td>57</td>\n",
                            "      <td>services</td>\n",
                            "      <td>married</td>\n",
                            "      <td>high.school</td>\n",
                            "      <td>no</td>\n",
                            "      <td>no</td>\n",
                            "      <td>no</td>\n",
                            "      <td>telephone</td>\n",
                            "      <td>may</td>\n",
                            "      <td>mon</td>\n",
                            "      <td>...</td>\n",
                            "      <td>1</td>\n",
                            "      <td>999</td>\n",
                            "      <td>0</td>\n",
                            "      <td>nonexistent</td>\n",
                            "      <td>1.1</td>\n",
                            "      <td>93.994</td>\n",
                            "      <td>-36.4</td>\n",
                            "      <td>4.857</td>\n",
                            "      <td>5191.0</td>\n",
                            "      <td>no</td>\n",
                            "    </tr>\n",
                            "    <tr>\n",
                            "      <th>2</th>\n",
                            "      <td>37</td>\n",
                            "      <td>services</td>\n",
                            "      <td>married</td>\n",
                            "      <td>high.school</td>\n",
                            "      <td>no</td>\n",
                            "      <td>yes</td>\n",
                            "      <td>no</td>\n",
                            "      <td>telephone</td>\n",
                            "      <td>may</td>\n",
                            "      <td>mon</td>\n",
                            "      <td>...</td>\n",
                            "      <td>1</td>\n",
                            "      <td>999</td>\n",
                            "      <td>0</td>\n",
                            "      <td>nonexistent</td>\n",
                            "      <td>1.1</td>\n",
                            "      <td>93.994</td>\n",
                            "      <td>-36.4</td>\n",
                            "      <td>4.857</td>\n",
                            "      <td>5191.0</td>\n",
                            "      <td>no</td>\n",
                            "    </tr>\n",
                            "    <tr>\n",
                            "      <th>3</th>\n",
                            "      <td>40</td>\n",
                            "      <td>admin.</td>\n",
                            "      <td>married</td>\n",
                            "      <td>basic.6y</td>\n",
                            "      <td>no</td>\n",
                            "      <td>no</td>\n",
                            "      <td>no</td>\n",
                            "      <td>telephone</td>\n",
                            "      <td>may</td>\n",
                            "      <td>mon</td>\n",
                            "      <td>...</td>\n",
                            "      <td>1</td>\n",
                            "      <td>999</td>\n",
                            "      <td>0</td>\n",
                            "      <td>nonexistent</td>\n",
                            "      <td>1.1</td>\n",
                            "      <td>93.994</td>\n",
                            "      <td>-36.4</td>\n",
                            "      <td>4.857</td>\n",
                            "      <td>5191.0</td>\n",
                            "      <td>no</td>\n",
                            "    </tr>\n",
                            "    <tr>\n",
                            "      <th>4</th>\n",
                            "      <td>56</td>\n",
                            "      <td>services</td>\n",
                            "      <td>married</td>\n",
                            "      <td>high.school</td>\n",
                            "      <td>no</td>\n",
                            "      <td>no</td>\n",
                            "      <td>yes</td>\n",
                            "      <td>telephone</td>\n",
                            "      <td>may</td>\n",
                            "      <td>mon</td>\n",
                            "      <td>...</td>\n",
                            "      <td>1</td>\n",
                            "      <td>999</td>\n",
                            "      <td>0</td>\n",
                            "      <td>nonexistent</td>\n",
                            "      <td>1.1</td>\n",
                            "      <td>93.994</td>\n",
                            "      <td>-36.4</td>\n",
                            "      <td>4.857</td>\n",
                            "      <td>5191.0</td>\n",
                            "      <td>no</td>\n",
                            "    </tr>\n",
                            "  </tbody>\n",
                            "</table>\n",
                            "<p>5 rows × 21 columns</p>\n",
                            "</div>"
                        ]
                    },
                    "metadata": {},
                    "execution_count": 10
                }
            ],
            "metadata": {}
        },
        {
            "cell_type": "code",
            "execution_count": 11,
            "source": [
                "# Dropping the columns with NaN values in the data\n",
                "df_final.dropna(axis=0, how='any', inplace=True)\n",
                "df_final.head()"
            ],
            "outputs": [
                {
                    "output_type": "execute_result",
                    "data": {
                        "text/plain": [
                            "   age        job  marital    education default housing loan    contact month  \\\n",
                            "0   56  housemaid  married     basic.4y      no      no   no  telephone   may   \n",
                            "1   57   services  married  high.school      no      no   no  telephone   may   \n",
                            "2   37   services  married  high.school      no     yes   no  telephone   may   \n",
                            "3   40     admin.  married     basic.6y      no      no   no  telephone   may   \n",
                            "4   56   services  married  high.school      no      no  yes  telephone   may   \n",
                            "\n",
                            "  day_of_week  ...  campaign  pdays  previous     poutcome emp_var_rate  \\\n",
                            "0         mon  ...         1    999         0  nonexistent          1.1   \n",
                            "1         mon  ...         1    999         0  nonexistent          1.1   \n",
                            "2         mon  ...         1    999         0  nonexistent          1.1   \n",
                            "3         mon  ...         1    999         0  nonexistent          1.1   \n",
                            "4         mon  ...         1    999         0  nonexistent          1.1   \n",
                            "\n",
                            "   cons_price_idx  cons_conf_idx  euribor3m  nr_employed   y  \n",
                            "0          93.994          -36.4      4.857       5191.0  no  \n",
                            "1          93.994          -36.4      4.857       5191.0  no  \n",
                            "2          93.994          -36.4      4.857       5191.0  no  \n",
                            "3          93.994          -36.4      4.857       5191.0  no  \n",
                            "4          93.994          -36.4      4.857       5191.0  no  \n",
                            "\n",
                            "[5 rows x 21 columns]"
                        ],
                        "text/html": [
                            "<div>\n",
                            "<style scoped>\n",
                            "    .dataframe tbody tr th:only-of-type {\n",
                            "        vertical-align: middle;\n",
                            "    }\n",
                            "\n",
                            "    .dataframe tbody tr th {\n",
                            "        vertical-align: top;\n",
                            "    }\n",
                            "\n",
                            "    .dataframe thead th {\n",
                            "        text-align: right;\n",
                            "    }\n",
                            "</style>\n",
                            "<table border=\"1\" class=\"dataframe\">\n",
                            "  <thead>\n",
                            "    <tr style=\"text-align: right;\">\n",
                            "      <th></th>\n",
                            "      <th>age</th>\n",
                            "      <th>job</th>\n",
                            "      <th>marital</th>\n",
                            "      <th>education</th>\n",
                            "      <th>default</th>\n",
                            "      <th>housing</th>\n",
                            "      <th>loan</th>\n",
                            "      <th>contact</th>\n",
                            "      <th>month</th>\n",
                            "      <th>day_of_week</th>\n",
                            "      <th>...</th>\n",
                            "      <th>campaign</th>\n",
                            "      <th>pdays</th>\n",
                            "      <th>previous</th>\n",
                            "      <th>poutcome</th>\n",
                            "      <th>emp_var_rate</th>\n",
                            "      <th>cons_price_idx</th>\n",
                            "      <th>cons_conf_idx</th>\n",
                            "      <th>euribor3m</th>\n",
                            "      <th>nr_employed</th>\n",
                            "      <th>y</th>\n",
                            "    </tr>\n",
                            "  </thead>\n",
                            "  <tbody>\n",
                            "    <tr>\n",
                            "      <th>0</th>\n",
                            "      <td>56</td>\n",
                            "      <td>housemaid</td>\n",
                            "      <td>married</td>\n",
                            "      <td>basic.4y</td>\n",
                            "      <td>no</td>\n",
                            "      <td>no</td>\n",
                            "      <td>no</td>\n",
                            "      <td>telephone</td>\n",
                            "      <td>may</td>\n",
                            "      <td>mon</td>\n",
                            "      <td>...</td>\n",
                            "      <td>1</td>\n",
                            "      <td>999</td>\n",
                            "      <td>0</td>\n",
                            "      <td>nonexistent</td>\n",
                            "      <td>1.1</td>\n",
                            "      <td>93.994</td>\n",
                            "      <td>-36.4</td>\n",
                            "      <td>4.857</td>\n",
                            "      <td>5191.0</td>\n",
                            "      <td>no</td>\n",
                            "    </tr>\n",
                            "    <tr>\n",
                            "      <th>1</th>\n",
                            "      <td>57</td>\n",
                            "      <td>services</td>\n",
                            "      <td>married</td>\n",
                            "      <td>high.school</td>\n",
                            "      <td>no</td>\n",
                            "      <td>no</td>\n",
                            "      <td>no</td>\n",
                            "      <td>telephone</td>\n",
                            "      <td>may</td>\n",
                            "      <td>mon</td>\n",
                            "      <td>...</td>\n",
                            "      <td>1</td>\n",
                            "      <td>999</td>\n",
                            "      <td>0</td>\n",
                            "      <td>nonexistent</td>\n",
                            "      <td>1.1</td>\n",
                            "      <td>93.994</td>\n",
                            "      <td>-36.4</td>\n",
                            "      <td>4.857</td>\n",
                            "      <td>5191.0</td>\n",
                            "      <td>no</td>\n",
                            "    </tr>\n",
                            "    <tr>\n",
                            "      <th>2</th>\n",
                            "      <td>37</td>\n",
                            "      <td>services</td>\n",
                            "      <td>married</td>\n",
                            "      <td>high.school</td>\n",
                            "      <td>no</td>\n",
                            "      <td>yes</td>\n",
                            "      <td>no</td>\n",
                            "      <td>telephone</td>\n",
                            "      <td>may</td>\n",
                            "      <td>mon</td>\n",
                            "      <td>...</td>\n",
                            "      <td>1</td>\n",
                            "      <td>999</td>\n",
                            "      <td>0</td>\n",
                            "      <td>nonexistent</td>\n",
                            "      <td>1.1</td>\n",
                            "      <td>93.994</td>\n",
                            "      <td>-36.4</td>\n",
                            "      <td>4.857</td>\n",
                            "      <td>5191.0</td>\n",
                            "      <td>no</td>\n",
                            "    </tr>\n",
                            "    <tr>\n",
                            "      <th>3</th>\n",
                            "      <td>40</td>\n",
                            "      <td>admin.</td>\n",
                            "      <td>married</td>\n",
                            "      <td>basic.6y</td>\n",
                            "      <td>no</td>\n",
                            "      <td>no</td>\n",
                            "      <td>no</td>\n",
                            "      <td>telephone</td>\n",
                            "      <td>may</td>\n",
                            "      <td>mon</td>\n",
                            "      <td>...</td>\n",
                            "      <td>1</td>\n",
                            "      <td>999</td>\n",
                            "      <td>0</td>\n",
                            "      <td>nonexistent</td>\n",
                            "      <td>1.1</td>\n",
                            "      <td>93.994</td>\n",
                            "      <td>-36.4</td>\n",
                            "      <td>4.857</td>\n",
                            "      <td>5191.0</td>\n",
                            "      <td>no</td>\n",
                            "    </tr>\n",
                            "    <tr>\n",
                            "      <th>4</th>\n",
                            "      <td>56</td>\n",
                            "      <td>services</td>\n",
                            "      <td>married</td>\n",
                            "      <td>high.school</td>\n",
                            "      <td>no</td>\n",
                            "      <td>no</td>\n",
                            "      <td>yes</td>\n",
                            "      <td>telephone</td>\n",
                            "      <td>may</td>\n",
                            "      <td>mon</td>\n",
                            "      <td>...</td>\n",
                            "      <td>1</td>\n",
                            "      <td>999</td>\n",
                            "      <td>0</td>\n",
                            "      <td>nonexistent</td>\n",
                            "      <td>1.1</td>\n",
                            "      <td>93.994</td>\n",
                            "      <td>-36.4</td>\n",
                            "      <td>4.857</td>\n",
                            "      <td>5191.0</td>\n",
                            "      <td>no</td>\n",
                            "    </tr>\n",
                            "  </tbody>\n",
                            "</table>\n",
                            "<p>5 rows × 21 columns</p>\n",
                            "</div>"
                        ]
                    },
                    "metadata": {},
                    "execution_count": 11
                }
            ],
            "metadata": {}
        },
        {
            "cell_type": "code",
            "execution_count": 12,
            "source": [
                "# Checking the number of duplicate rows in the data\n",
                "df_final.duplicated().sum()"
            ],
            "outputs": [
                {
                    "output_type": "execute_result",
                    "data": {
                        "text/plain": [
                            "14"
                        ]
                    },
                    "metadata": {},
                    "execution_count": 12
                }
            ],
            "metadata": {}
        },
        {
            "cell_type": "code",
            "execution_count": 13,
            "source": [
                "# Dropping the duplicate rows\n",
                "df_final.drop_duplicates(inplace=True)\n",
                "df_final.shape"
            ],
            "outputs": [
                {
                    "output_type": "execute_result",
                    "data": {
                        "text/plain": [
                            "(39789, 21)"
                        ]
                    },
                    "metadata": {},
                    "execution_count": 13
                }
            ],
            "metadata": {}
        },
        {
            "cell_type": "markdown",
            "source": [
                "__With still having 39789 rows of data, we can see that we haven't lost too much of data trying to tackle the missing values. If we look at the duplicates and null values now, we see that they are no duplicates and null values in any row of the dataset. This can be seen below.__"
            ],
            "metadata": {}
        },
        {
            "cell_type": "code",
            "execution_count": 14,
            "source": [
                "df_final.isnull().sum()"
            ],
            "outputs": [
                {
                    "output_type": "execute_result",
                    "data": {
                        "text/plain": [
                            "age               0\n",
                            "job               0\n",
                            "marital           0\n",
                            "education         0\n",
                            "default           0\n",
                            "housing           0\n",
                            "loan              0\n",
                            "contact           0\n",
                            "month             0\n",
                            "day_of_week       0\n",
                            "duration          0\n",
                            "campaign          0\n",
                            "pdays             0\n",
                            "previous          0\n",
                            "poutcome          0\n",
                            "emp_var_rate      0\n",
                            "cons_price_idx    0\n",
                            "cons_conf_idx     0\n",
                            "euribor3m         0\n",
                            "nr_employed       0\n",
                            "y                 0\n",
                            "dtype: int64"
                        ]
                    },
                    "metadata": {},
                    "execution_count": 14
                }
            ],
            "metadata": {}
        },
        {
            "cell_type": "code",
            "execution_count": 15,
            "source": [
                "df_final.duplicated().sum()"
            ],
            "outputs": [
                {
                    "output_type": "execute_result",
                    "data": {
                        "text/plain": [
                            "0"
                        ]
                    },
                    "metadata": {},
                    "execution_count": 15
                }
            ],
            "metadata": {}
        },
        {
            "cell_type": "markdown",
            "source": [
                "__The last thing to look at is the class balance in the data.__"
            ],
            "metadata": {}
        },
        {
            "cell_type": "code",
            "execution_count": 16,
            "source": [
                "# Checking the class balance within the data\n",
                "df_final.y.value_counts()"
            ],
            "outputs": [
                {
                    "output_type": "execute_result",
                    "data": {
                        "text/plain": [
                            "no     35303\n",
                            "yes     4486\n",
                            "Name: y, dtype: int64"
                        ]
                    },
                    "metadata": {},
                    "execution_count": 16
                }
            ],
            "metadata": {}
        },
        {
            "cell_type": "markdown",
            "source": [
                "__We see that most of the records present are 'no'. This means that we have a class imbalance in our data. This can be visualized below.__"
            ],
            "metadata": {}
        },
        {
            "cell_type": "code",
            "execution_count": 17,
            "source": [
                "# Creating a scatter plot to show the imbalance in classes in the data\n",
                "yes_ar = np.array(df_final[df_final.y == 'yes'].y)\n",
                "no_ar = np.array(df_final[df_final.y == 'no'].y)\n",
                "plt.bar(yes_ar, len(yes_ar))\n",
                "plt.bar(no_ar, len(no_ar))\n",
                "plt.show()"
            ],
            "outputs": [
                {
                    "output_type": "display_data",
                    "data": {
                        "text/plain": [
                            "<Figure size 432x288 with 1 Axes>"
                        ],
                        "image/png": "[encoded data removed]"
                    },
                    "metadata": {
                        "needs_background": "light"
                    }
                }
            ],
            "metadata": {}
        },
        {
            "cell_type": "code",
            "execution_count": 18,
            "source": [
                "# Getting the event rate\n",
                "evnt_rate = (len(yes_ar)/len(no_ar)*100)\n",
                "evnt_rate"
            ],
            "outputs": [
                {
                    "output_type": "execute_result",
                    "data": {
                        "text/plain": [
                            "12.707135370931649"
                        ]
                    },
                    "metadata": {},
                    "execution_count": 18
                }
            ],
            "metadata": {}
        },
        {
            "cell_type": "markdown",
            "source": [
                "__We see that the event rate of 'yes' is around 12.7%. This shows a clear imbalance in the data. We must see how to deal with this imbalance in order to build efficient and effective models.__"
            ],
            "metadata": {}
        }
    ],
    "metadata": {
        "orig_nbformat": 4,
        "language_info": {
            "name": "python",
            "version": "3.9.5",
            "mimetype": "text/x-python",
            "codemirror_mode": {
                "name": "ipython",
                "version": 3
            },
            "pygments_lexer": "ipython3",
            "nbconvert_exporter": "python",
            "file_extension": ".py"
        },
        "kernelspec": {
            "name": "python3",
            "display_name": "Python 3.9.5 64-bit ('bank-marketing': conda)"
        },
        "interpreter": {
            "hash": "4f4b1b5c29d42177289028ea0cce887199f1450cd3ec65bcdc0315cf1c974aa2"
        }
    },
    "nbformat": 4,
    "nbformat_minor": 2
}